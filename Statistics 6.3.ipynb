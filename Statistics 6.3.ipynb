{
 "cells": [
  {
   "cell_type": "code",
   "execution_count": 2,
   "metadata": {},
   "outputs": [
    {
     "name": "stdout",
     "output_type": "stream",
     "text": [
      "[0.8, 0.1, 0.07, 0.03]\n",
      "probability distribution is  [0.0, 0.1, 0.14, 0.09]\n"
     ]
    }
   ],
   "source": [
    "# In a class on 100 students, 80 students passed in all subjects, 10 failed in one subject, 7\n",
    "#failed in two subjects and 3 failed in three subjects. Find the probability distribution of\n",
    "#the variable for number of subjects a student from the given class has failed\n",
    "\n",
    "\n",
    "x = [0,1,2,3]\n",
    "failures = [80,10,7,3]\n",
    "random_variable = [a/100 for a in failures]\n",
    "print(random_variable)\n",
    "probability_distribution = [a*b for a,b in zip(x,random_variable)] # using list comperhension\n",
    "print(\"probability distribution is \",probability_distribution)"
   ]
  },
  {
   "cell_type": "code",
   "execution_count": null,
   "metadata": {
    "collapsed": true
   },
   "outputs": [],
   "source": []
  }
 ],
 "metadata": {
  "kernelspec": {
   "display_name": "Python 3",
   "language": "python",
   "name": "python3"
  },
  "language_info": {
   "codemirror_mode": {
    "name": "ipython",
    "version": 3
   },
   "file_extension": ".py",
   "mimetype": "text/x-python",
   "name": "python",
   "nbconvert_exporter": "python",
   "pygments_lexer": "ipython3",
   "version": "3.6.3"
  }
 },
 "nbformat": 4,
 "nbformat_minor": 2
}
